{
  "nbformat": 4,
  "nbformat_minor": 0,
  "metadata": {
    "colab": {
      "provenance": [],
      "toc_visible": true
    },
    "kernelspec": {
      "name": "python3",
      "display_name": "Python 3"
    },
    "language_info": {
      "name": "python"
    }
  },
  "cells": [
    {
      "cell_type": "markdown",
      "source": [
        "## **Overview of Django’s ORM and Database Integration**\n",
        "Django, a high-level Python web framework, simplifies web development by offering a robust system for handling databases through its **Object-Relational Mapper (ORM).** Django’s ORM allows developers to interact with databases using Python code instead of raw SQL, making database operations more intuitive and less error-prone.\n"
      ],
      "metadata": {
        "id": "s6kNZMgmbSKi"
      }
    },
    {
      "cell_type": "markdown",
      "source": [
        "### **What is ORM?**\n",
        "**An Object-Relational Mapper (ORM)** bridges the gap between relational databases and object-oriented programming languages. In Django, the ORM automatically translates Python objects (models) into database tables and rows. This means developers can perform CRUD operations (Create, Read, Update, Delete) on the database without writing SQL queries."
      ],
      "metadata": {
        "id": "I_HLj1l4bgA2"
      }
    },
    {
      "cell_type": "markdown",
      "source": [
        "### **Key Features of Django’s ORM**\n",
        "**1. Database Abstraction:**\n",
        "Django’s ORM abstracts database operations, allowing developers to work with multiple databases (SQLite, PostgreSQL, MySQL) without changing the core logic.\n",
        "\n",
        "**2. Model Definition:**\n",
        "Databases are represented using Python classes called models. Each model maps to a database table, and each attribute of the model represents a table column.\n",
        "\n",
        "**3. Automatic Schema Generation:**\n",
        "Django automatically generates SQL schema based on model definitions. Running migrations applies these changes to the database.\n",
        "\n",
        "**4. Querying with Python:**\n",
        "Instead of raw SQL, Django uses Python-based QuerySets to fetch, filter, and manipulate data.\n",
        "\n",
        "**5. Database Migrations:**\n",
        "Django provides built-in commands (makemigrations and migrate) to apply schema changes to the database without manual SQL handling."
      ],
      "metadata": {
        "id": "tg5-6zD2bqg_"
      }
    },
    {
      "cell_type": "markdown",
      "source": [
        "### **How Django Integrates with Databases**\n",
        "**Database Configuration:**\n",
        "Django connects to a database through the DATABASES setting in settings.py. Developers can configure different databases (SQLite, PostgreSQL, MySQL, Oracle) by modifying this setting.\n",
        "\n",
        "\n",
        "```\n",
        "DATABASES = {\n",
        "    'default': {\n",
        "        'ENGINE': 'django.db.backends.sqlite3',\n",
        "        'NAME': BASE_DIR / \"db.sqlite3\",\n",
        "    }\n",
        "}\n",
        "\n",
        "```\n",
        "**Defining Models:**\n",
        "Models are Python classes that inherit from django.db.models.Model. Django automatically creates corresponding database tables.\n",
        "\n",
        "\n",
        "```\n",
        "from django.db import models\n",
        "\n",
        "class Event(models.Model):\n",
        "    title = models.CharField(max_length=100)\n",
        "    date = models.DateField()\n",
        "    description = models.TextField()\n",
        "\n",
        "```\n",
        "**Running Migrations:**\n",
        "Django manages database changes through migrations:\n",
        "\n",
        "* **python manage.py makemigrations:** Prepares migration files based on model changes.\n",
        "* **python manage.py migrate:** Applies these changes to the database.\n",
        "\n",
        "**Data Manipulation with QuerySets:**\n",
        "\n",
        "QuerySets allow you to interact with the database using Python.\n",
        "\n",
        "\n",
        "```\n",
        "# Creating a new event\n",
        "Event.objects.create(title=\"Music Festival\", date=\"2024-05-10\", description=\"Annual community music event\")\n",
        "\n",
        "# Retrieving all events\n",
        "events = Event.objects.all()\n",
        "\n",
        "# Filtering events\n",
        "upcoming_events = Event.objects.filter(date__gte=\"2024-01-01\")\n",
        "\n",
        "```\n",
        "\n",
        "\n",
        "\n",
        "\n"
      ],
      "metadata": {
        "id": "BhVtIyLudlmP"
      }
    },
    {
      "cell_type": "markdown",
      "source": [
        "### **Advantages of Django’s ORM**\n",
        "* Productivity Boost: Simplifies complex SQL queries with Python-based queries.\n",
        "* Database Flexibility: Easily switch between databases with minimal code changes.\n",
        "* Security: Protects against SQL injection by managing queries safely.\n",
        "* Maintainability: Centralized model definitions keep the codebase organized and scalable."
      ],
      "metadata": {
        "id": "oE_RRXc1euQU"
      }
    },
    {
      "cell_type": "markdown",
      "source": [
        "Django’s ORM streamlines database integration by allowing developers to work with Python objects instead of raw SQL. It simplifies data modeling, querying, and schema management, enabling faster and more secure web development. Whether you’re building a simple blog or a complex web application, Django’s ORM provides a powerful and efficient way to manage your data."
      ],
      "metadata": {
        "id": "Nyp61aqSe4_d"
      }
    },
    {
      "cell_type": "markdown",
      "source": [
        "## **Defining Models for Storing Data in Django**\n",
        "In Django, models are Python classes that define the structure of your database tables. Each model maps to a single database table, and each attribute of the model represents a column in that table. Models are defined in the models.py file of a Django app."
      ],
      "metadata": {
        "id": "XK5Kt2xMfE9x"
      }
    },
    {
      "cell_type": "markdown",
      "source": [
        "**Understanding Django Models: The Backbone of Data Management**\n",
        "\n",
        "Django is a powerful web framework that enables developers to build robust web applications quickly and efficiently. At the heart of Django’s database system are models, which act as a bridge between your application and the database. Think of models as blueprints for your data—they define how data is structured and how it behaves, eliminating the need to write complex SQL queries.\n",
        "\n",
        "In Django, each model maps to a database table, and each attribute of the model represents a column in that table. This abstraction allows developers to interact with the database using Python objects instead of raw SQL, streamlining tasks like creating, updating, and deleting records."
      ],
      "metadata": {
        "id": "1xOvwZO-hw8k"
      }
    },
    {
      "cell_type": "markdown",
      "source": [
        "### **Key Components of Django Models**\n",
        "* **Model Class** – Inherits from django.db.models.Model.\n",
        "* **Fields** – Define the type of data stored (e.g., CharField, IntegerField).\n",
        "* **Meta Class** (Optional) – Provides additional configurations like ordering.\n",
        "* **Methods** (Optional) – Define behavior for data manipulation or representation."
      ],
      "metadata": {
        "id": "BozxFcFQh5dR"
      }
    },
    {
      "cell_type": "markdown",
      "source": [
        "### **Example of a Simple Model**\n",
        "\n",
        "Here’s a basic example of how you might define a model for storing information about books in Django:\n",
        "\n",
        "\n",
        "```\n",
        "from django.db import models\n",
        "\n",
        "class Author(models.Model):\n",
        "    name = models.CharField(max_length=100)\n",
        "    birth_date = models.DateField()\n",
        "\n",
        "class Book(models.Model):\n",
        "    title = models.CharField(max_length=200)\n",
        "    publication_date = models.DateField()\n",
        "    author = models.ForeignKey(Author, on_delete=models.CASCADE)\n",
        "```\n",
        "In this example:\n",
        "\n",
        "* The Author model has two fields: name and birth_date.\n",
        "* The Book model has three fields: title, publication_date, and a foreign key relationship to the Author model.\n",
        "\n"
      ],
      "metadata": {
        "id": "RDfagdAhiKs1"
      }
    },
    {
      "cell_type": "markdown",
      "source": [
        "### **Explanation of the Models**\n",
        "\n",
        "**Category Model:**\n",
        "\n",
        "* name: Stores the category name (e.g., Music, Workshop).\n",
        "* description: Optional text field for category details.\n",
        "__str__(): Returns the category name for easy display.\n",
        "\n",
        "**Event Model:**\n",
        "\n",
        "* title: Title of the event.\n",
        "* category: Foreign key linking the event to a category.\n",
        "* date and time: Date and time of the event.\n",
        "* location: Where the event takes place.\n",
        "* description: Detailed information about the event.\n",
        "* is_featured: Boolean flag to highlight certain events"
      ],
      "metadata": {
        "id": "gTaiSv7zifgv"
      }
    },
    {
      "cell_type": "markdown",
      "source": [
        "### **Migrating Models to the Database**\n",
        "Once the models are defined, run the following commands to create database tables:\n",
        "\n",
        "Create Migration Files:\n",
        "\n",
        "\n",
        "```\n",
        "python manage.py makemigrations\n",
        "\n",
        "```\n",
        "Apply Migrations to the Database:\n",
        "\n",
        "\n",
        "```\n",
        "python manage.py migrate\n",
        "\n",
        "```\n",
        "\n",
        "\n",
        "\n",
        "\n"
      ],
      "metadata": {
        "id": "mVrHdI__jI-H"
      }
    },
    {
      "cell_type": "markdown",
      "source": [
        "## **Migrations**\n",
        "Migrations in Django are essential for managing changes to your database schema over time. They allow you to track modifications made to your models, such as creating new tables or altering existing ones. Here’s a step-by-step guide on how to create and apply migrations in Django, along with an example."
      ],
      "metadata": {
        "id": "BBhKgKCxjwji"
      }
    },
    {
      "cell_type": "markdown",
      "source": [
        "### **Step-by-Step Process for Applying Migrations**\n",
        "**Make Changes to Your Models:** First, update your models.py file by adding or modifying a model. For instance, let’s say we want to add a new model called Boom.\n",
        "\n",
        "```\n",
        "from django.db import models\n",
        "\n",
        "class Boom(models.Model):\n",
        "    name = models.CharField(max_length=100)\n",
        "    created_at = models.DateTimeField(auto_now_add=True)\n",
        "```\n",
        "**Create Migration Files**: After making changes to your models, you need to create migration files that describe these changes. Open your terminal and navigate to your Django project directory. Run the following command\n",
        "\n",
        "```\n",
        "$ python manage.py makemigrations\n",
        "```\n",
        "**Apply the Migrations:** Once the migration files are created, the next step is to apply them to the database. Run the following command\n",
        "\n",
        "\n",
        "```\n",
        "$ python manage.py migrate\n",
        "```\n",
        "\n",
        "\n",
        "\n",
        "\n",
        "\n",
        "\n"
      ],
      "metadata": {
        "id": "DbaWxiw9kI-1"
      }
    },
    {
      "cell_type": "markdown",
      "source": [
        "### **Example of Applying Migrations**\n",
        "Let’s summarize the process with an example:\n",
        "\n",
        "**Define Your Model:**\n",
        "\n",
        "**In models.py:**\n",
        "\n",
        "\n",
        "```\n",
        "from django.db import models\n",
        "\n",
        "class Musician(models.Model):\n",
        "    first_name = models.CharField(max_length=200)\n",
        "    last_name = models.CharField(max_length=200)\n",
        "    instrument = models.CharField(max_length=200)\n",
        "\n",
        "class Album(models.Model):\n",
        "    artist = models.ForeignKey(Musician, on_delete=models.CASCADE)\n",
        "    name = models.CharField(max_length=100)\n",
        "    release_date = models.DateField()\n",
        "    num_stars = models.IntegerField()\n",
        "       \n",
        "class Boom(models.Model):\n",
        "    name = models.CharField(max_length=100)\n",
        "    created_at = models.DateTimeField(auto_now_add=True)\n",
        "```\n",
        "**Create Migration**\n",
        "\n",
        "\n",
        "```\n",
        "$ python manage.py makemigrations my_app\n",
        "```\n",
        "**Apply Migration**\n",
        "\n",
        "```\n",
        "$ python manage.py migrate\n",
        "```\n",
        "By following these steps, you can effectively manage changes to your database schema using Django migrations. This process ensures that your database structure is always in sync with your application’s data model, allowing for smooth development and deployment cycles. Remember to always back up your database before applying significant migrations, especially in production environments!\n",
        "\n",
        "\n",
        "\n",
        "\n",
        "\n"
      ],
      "metadata": {
        "id": "4Sbbz5pClkkp"
      }
    },
    {
      "cell_type": "markdown",
      "source": [
        "## **Create models and test basic CRUD operations.**\n",
        " we will focus on developing a Django application that manages student data effectively. This application will allow us to perform basic CRUD operations—Create, Read, Update, and Delete—on student records. Let’s walk through the steps to create models and implement these operations."
      ],
      "metadata": {
        "id": "_Rv_-Qlemw4U"
      }
    },
    {
      "cell_type": "markdown",
      "source": [
        "### **Step 1: Setting Up Django Project**\n",
        "First, ensure you have Django installed. If not, you can install it using pip:\n",
        "\n",
        "\n",
        "```\n",
        "$ pip install django\n",
        "```\n",
        "Next, create a new Django project named students_of_apexiq:\n",
        "\n",
        "\n",
        "```\n",
        "cd students_of_apexiq\n",
        "```\n",
        "Create a new app called students:\n",
        "\n",
        "\n",
        "```\n",
        "$ python manage.py startapp students\n",
        "```\n",
        "\n",
        "\n",
        "\n",
        "\n",
        "\n",
        "\n"
      ],
      "metadata": {
        "id": "uAQf0_Gvm0pb"
      }
    },
    {
      "cell_type": "markdown",
      "source": [
        "### **Step 2: Defining the Student Model**\n",
        "In the students/models.py file, we will define a model for our student data. Here’s an example of how the Student model might look:\n",
        "\n",
        "\n",
        "```\n",
        "from django.db import models\n",
        "\n",
        "class Student(models.Model):\n",
        "    first_name = models.CharField(max_length=100)\n",
        "    last_name = models.CharField(max_length=100)\n",
        "    email = models.EmailField(unique=True)\n",
        "    enrollment_date = models.DateField()\n",
        "\n",
        "    def __str__(self):\n",
        "        return f\"{self.first_name} {self.last_name}\"\n",
        "```\n",
        "\n"
      ],
      "metadata": {
        "id": "aJg8gOVEoIet"
      }
    },
    {
      "cell_type": "markdown",
      "source": [
        "### **Step 3: Registering the Model**\n",
        "To make our model available in the admin interface, we need to register it. Open **students/admin.py** and add the following code:\n",
        "\n",
        "\n",
        "```\n",
        "from django.contrib import admin\n",
        "from .models import Student\n",
        "\n",
        "admin.site.register(Student)\n",
        "```\n",
        "\n"
      ],
      "metadata": {
        "id": "V2NRfhMXockR"
      }
    },
    {
      "cell_type": "markdown",
      "source": [
        "### **Step 4: Running Migrations**\n",
        "\n",
        "Now that we have defined our model, we need to create the database table. Run the following commands to make migrations and apply them\n",
        "\n",
        "\n",
        "```\n",
        "python manage.py migrate\n",
        "```\n",
        "\n"
      ],
      "metadata": {
        "id": "Aro0QNYmorfQ"
      }
    },
    {
      "cell_type": "markdown",
      "source": [
        "### **Step 5: Implementing CRUD Operations**\n",
        "**Create**\n",
        "\n",
        "To create a new student record, you can use Django's shell or create a view. Here’s how to do it in the shell:\n",
        "\n",
        "```\n",
        "$ python manage.py shell\n",
        "\n",
        "```\n",
        "\n",
        "Then execute:\n",
        "```\n",
        "from students.models import Student\n",
        "new_student = Student(first_name=\"John\", last_name=\"Doe\", email=\"john.doe@example.com\", enrollment_date=\"2024-01-15\")\n",
        "new_student.save()\n",
        "```\n",
        "**Read**\n",
        "\n",
        "To read student records, you can retrieve all students or filter them based on certain criteria\n",
        "\n",
        "```\n",
        "# Get all students\n",
        "all_students = Student.objects.all()\n",
        "\n",
        "# Get a specific student by ID\n",
        "specific_student = Student.objects.get(id=1)\n",
        "```\n",
        "**Update**\n",
        "\n",
        "To update an existing student's information:\n",
        "\n",
        "\n",
        "```\n",
        "student_to_update = Student.objects.get(id=1)\n",
        "student_to_update.email = \"john.newemail@example.com\"\n",
        "student_to_update.save()\n",
        "```\n",
        "**Delete**\n",
        "\n",
        "To delete a student record:\n",
        "\n",
        "\n",
        "```\n",
        "student_to_delete = Student.objects.get(id=1)\n",
        "student_to_delete.delete()\n",
        "```\n",
        "\n",
        "\n",
        "\n",
        "\n",
        "\n",
        "\n",
        "\n",
        "\n",
        "\n",
        "\n"
      ],
      "metadata": {
        "id": "TX0X-ateo4J5"
      }
    },
    {
      "cell_type": "markdown",
      "source": [
        "## **Conclusion**\n",
        "By following these steps, you have successfully created a Django application for managing student records in the \"Students of ApexIQ\" project. You’ve defined a model, registered it with the admin interface, and implemented basic CRUD operations. This foundational setup allows for further enhancements, such as adding user authentication or integrating with other applications."
      ],
      "metadata": {
        "id": "R45Dq4_Qp7wz"
      }
    }
  ]
}