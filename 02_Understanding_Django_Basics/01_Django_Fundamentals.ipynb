{
  "nbformat": 4,
  "nbformat_minor": 0,
  "metadata": {
    "colab": {
      "provenance": []
    },
    "kernelspec": {
      "name": "python3",
      "display_name": "Python 3"
    },
    "language_info": {
      "name": "python"
    }
  },
  "cells": [
    {
      "cell_type": "markdown",
      "source": [
        "# **Introduction to URL Routing in Django**\n",
        "In Django, **URL routing** maps a URL request to the appropriate view that\n",
        "handles the logic for that request. It's a crucial part of any web framework because it determines how users interact with different pages or functionalities of a website by navigating URLs."
      ],
      "metadata": {
        "id": "ajCum0FmH72X"
      }
    },
    {
      "cell_type": "markdown",
      "source": [
        "### **How Django Handles URLs**\n",
        "When a user visits a URL in a Django web application, Django searches for matching **patterns in a URL configuration file (urls.py).** If it finds a match, it directs the request to the associated view function or class-based view, which returns an HTTP response (e.g., a webpage)."
      ],
      "metadata": {
        "id": "lUWAHWaMREMt"
      }
    },
    {
      "cell_type": "markdown",
      "source": [
        "### **Steps in Django URL Routing**\n",
        "1.User sends a request (e.g., /about).\n",
        "\n",
        "2.Django looks for a matching URL pattern in urls.py.\n",
        "\n",
        "3.If matched, Django invokes the appropriate view function or class.\n",
        "\n",
        "4.The view processes the request and returns a response (e.g., an HTML page)"
      ],
      "metadata": {
        "id": "8fXU2vGoRn35"
      }
    },
    {
      "cell_type": "markdown",
      "source": [
        "### **Example: URL Configuration**\n",
        "**1. Creating URL patterns in urls.py**\n",
        "\n",
        "Each Django project has a primary urls.py file located in the project directory. Every app within the project can also have its own urls.py file.\n",
        "**project/urls.py**\n",
        "\n",
        "\n",
        "```\n",
        "# project/urls.py\n",
        "from django.contrib import admin\n",
        "from django.urls import path, include\n",
        "\n",
        "urlpatterns = [\n",
        "    path('admin/', admin.site.urls),  # Admin interface\n",
        "    path('about/', include('about.urls')),  # Includes URLs from 'about' app\n",
        "]\n",
        "```\n",
        "In the above example:\n",
        "\n",
        "* If a user visits **/admin/**, Django shows the admin interface.\n",
        "* If a user visits **/about/**, Django will include the URLs from the about app's urls.py.\n",
        "\n"
      ],
      "metadata": {
        "id": "rdgkv0lL_uFC"
      }
    },
    {
      "cell_type": "markdown",
      "source": [
        "**2. Creating URLs for an App (about/urls.py)**\n",
        "\n",
        "If you have an app named about, you define the routing logic inside the app's urls.py:\n",
        "**about/urls.py**\n",
        "\n",
        "\n",
        "```\n",
        "from django.urls import path\n",
        "from . import views\n",
        "\n",
        "urlpatterns = [\n",
        "    path('', views.home, name='home'),  # Matches `/about/` URL\n",
        "    path('contact/', views.contact, name='contact'),  # Matches `/about/contact/`\n",
        "]\n",
        "```\n",
        "path() takes the following parameters:\n",
        "* **Route**: The part of the URL to match.\n",
        "* **View**: A function or class to handle the request.\n",
        "* **Name**: (Optional) Used to reference the route in templates.\n",
        "\n"
      ],
      "metadata": {
        "id": "w-_EZ6jjAo_g"
      }
    },
    {
      "cell_type": "markdown",
      "source": [
        "### **View Functions Example**\n",
        "**about/views.py**\n",
        "\n",
        "\n",
        "```\n",
        "# about/views.py\n",
        "from django.http import HttpResponse\n",
        "\n",
        "def home(request):\n",
        "    return HttpResponse(\"Welcome to the About Page!\")\n",
        "\n",
        "def contact(request):\n",
        "    return HttpResponse(\"Contact Us\")\n",
        "```\n",
        "* When the user visits /about/, Django calls the home() function.\n",
        "\n",
        "\n"
      ],
      "metadata": {
        "id": "Nac41_YY3K9L"
      }
    },
    {
      "cell_type": "markdown",
      "source": [
        "Passing Parameters in URLs\n",
        "Sometimes you need to pass parameters through the URL, such as an ID or username.\n",
        "\n",
        "URL Pattern with Parameter:\n",
        "\n",
        "\n",
        "```\n",
        "# about/urls.py\n",
        "urlpatterns = [\n",
        "    path('profile/<int:user_id>/', views.profile, name='profile'),\n",
        "]\n",
        "```\n",
        "\n"
      ],
      "metadata": {
        "id": "x3sAL6UM6NAD"
      }
    },
    {
      "cell_type": "markdown",
      "source": [
        "# **To create Django views that return HTML responses.**\n",
        "These views can either return raw HTML directly from the view function or render HTML templates stored in your project."
      ],
      "metadata": {
        "id": "zsa1FBNW3arB"
      }
    },
    {
      "cell_type": "markdown",
      "source": [
        "### **Step 1: Set Up a Django Project and App**\n",
        "1. Create a new Django project (if not done already):\n",
        "\n",
        "\n",
        "```\n",
        "$ django-admin startproject myproject\n",
        "$ cd myproject`\n",
        "\n",
        "```\n",
        "2. Create a new app (for example, myapp):\n",
        "\n",
        "\n",
        "```\n",
        "$ python manage.py startapp myapp\n",
        "```\n",
        "3. **Add the new app to INSTALLED_APPS** in the myproject/settings.py file:\n",
        "\n",
        "\n",
        "```\n",
        " # myproject/settings.py\n",
        "   INSTALLED_APPS = [\n",
        "       'django.contrib.admin',\n",
        "       'django.contrib.auth',\n",
        "       'django.contrib.contenttypes',\n",
        "       'django.contrib.sessions',\n",
        "       'django.contrib.messages',\n",
        "       'django.contrib.staticfiles',\n",
        "       'myapp',  # Add your app here\n",
        "   ]\n",
        "```\n",
        "\n",
        "\n",
        "\n",
        "\n",
        "\n",
        "\n"
      ],
      "metadata": {
        "id": "sNOrEWfw6bwx"
      }
    },
    {
      "cell_type": "markdown",
      "source": [
        "### **Step 2: Create Basic Views in the App**\n",
        "**myapp/views.py:** define the following views that return HTML responses.\n",
        "\n",
        "**View 1:** Return Raw HTML from the View\n",
        "\n",
        "\n",
        "```\n",
        "# myapp/views.py\n",
        "from django.http import HttpResponse\n",
        "\n",
        "def home_view(request):\n",
        "    html = \"\"\"\n",
        "    <html>\n",
        "        <head><title>Home Page</title></head>\n",
        "        <body>\n",
        "            <h1>Welcome to the Home Page!</h1>\n",
        "            <p>This is a simple HTML response directly from the view.</p>\n",
        "        </body>\n",
        "    </html>\n",
        "    \"\"\"\n",
        "    return HttpResponse(html)\n",
        "```\n",
        "**View 2:** Render an HTML Template\n",
        "\n",
        "First, create a folder named templates inside your app directory (myapp), and inside it, create an index.html file.\n",
        "\n",
        "**myapp/templates/index.html**\n",
        "```\n",
        "<!DOCTYPE html>\n",
        "<html lang=\"en\">\n",
        "<head>\n",
        "    <meta charset=\"UTF-8\">\n",
        "    <meta name=\"viewport\" content=\"width=device-width, initial-scale=1.0\">\n",
        "    <title>Index Page</title>\n",
        "</head>\n",
        "<body>\n",
        "    <h1>Hello from the Index Page!</h1>\n",
        "    <p>This HTML page is rendered using a Django template.</p>\n",
        "</body>\n",
        "</html>\n",
        "```\n",
        "Now, modify the view to render this template: **myapp/views.py**\n",
        "```\n",
        "# myapp/views.py\n",
        "from django.shortcuts import render\n",
        "\n",
        "def index_view(request):\n",
        "    return render(request, 'index.html')\n",
        "```\n",
        "\n",
        "\n",
        "\n",
        "\n",
        "\n"
      ],
      "metadata": {
        "id": "DM9-iV-O_FAV"
      }
    },
    {
      "cell_type": "markdown",
      "source": [
        "### **Step 3: Define URL Patterns**\n",
        "\n",
        "In your app's urls.py file **(myapp/urls.py)**, define the URLs that map to these views.\n",
        "\n",
        "**myapp/urls.py:**\n",
        "\n",
        "\n",
        "```\n",
        "from django.urls import path\n",
        "from . import views\n",
        "\n",
        "urlpatterns = [\n",
        "    path('', views.home_view, name='home'),  # Home page with raw HTML\n",
        "    path('index/', views.index_view, name='index'),  # Index page with template\n",
        "]\n",
        "```\n",
        "Include these URLs in the project’s main urls.py file.\n",
        "\n",
        "**myproject/urls.py:**\n",
        "\n",
        "\n",
        "```\n",
        "from django.contrib import admin\n",
        "from django.urls import path, include\n",
        "\n",
        "urlpatterns = [\n",
        "    path('admin/', admin.site.urls),\n",
        "    path('', include('myapp.urls')),  # Include app's URLs\n",
        "]\n",
        "```\n",
        "\n",
        "\n",
        "\n"
      ],
      "metadata": {
        "id": "GR8yoDyLArbC"
      }
    },
    {
      "cell_type": "markdown",
      "source": [
        "### **Step 4: Run the Django Server**\n",
        "\n",
        "Make sure everything is correctly set up, and then run the server:\n",
        "\n",
        "\n",
        "\n",
        "```\n",
        "python manage.py runserver\n",
        "```\n",
        "\n"
      ],
      "metadata": {
        "id": "FqDaF-OdIwBv"
      }
    },
    {
      "cell_type": "markdown",
      "source": [
        "This example shows two ways to serve HTML using Django:\n",
        "\n",
        "1. Raw HTML directly from a view using HttpResponse.\n",
        "2. Rendered templates using Django’s render() function."
      ],
      "metadata": {
        "id": "Pgo6AjxPI-Fb"
      }
    },
    {
      "cell_type": "markdown",
      "source": [
        " # **Link views to URLs**\n",
        " In Django, to make your views accessible through URLs, you need to define **URL patterns** and link them to the appropriate **view functions or class-based views.** Let’s walk through how to properly connect views to URLs in your Django app."
      ],
      "metadata": {
        "id": "Z1ay1czsJCUy"
      }
    },
    {
      "cell_type": "markdown",
      "source": [
        "### **Step 1: Create Views**\n",
        "Let’s assume you have two views in your Django app.\n",
        "\n",
        "**myapp/views.py:**\n",
        "\n",
        "\n",
        "\n",
        "```\n",
        "# myapp/views.py\n",
        "from django.http import HttpResponse\n",
        "from django.shortcuts import render\n",
        "\n",
        "# View 1: Returns raw HTML\n",
        "def home_view(request):\n",
        "    return HttpResponse(\"<h1>Welcome to the Home Page!</h1>\")\n",
        "\n",
        "# View 2: Renders an HTML template\n",
        "def about_view(request):\n",
        "    return render(request, 'about.html')\n",
        "\n",
        "```\n",
        "\n",
        "In the first view (home_view), we're returning raw HTML.\n",
        "\n",
        "In the second view (about_view), we’re rendering an HTML template named about.html.\n"
      ],
      "metadata": {
        "id": "Fr9Q-zUCN2Un"
      }
    },
    {
      "cell_type": "markdown",
      "source": [
        "### **Step 2: Define URLs in the App**\n",
        "Create a urls.py file inside your app (if it doesn’t already exist). This file will define the routes for the views.\n",
        "\n",
        "**myapp/urls.py**\n",
        "\n",
        "\n",
        "\n",
        "```\n",
        "# myapp/urls.py\n",
        "from django.urls import path\n",
        "from . import views\n",
        "\n",
        "urlpatterns = [\n",
        "    path('', views.home_view, name='home'),  # Home view linked to `/`\n",
        "    path('about/', views.about_view, name='about'),  # About view linked to `/about/`\n",
        "]\n",
        "```\n",
        "Here:\n",
        "\n",
        "* **path():** Takes the route and the corresponding view.\n",
        "* **name:** (Optional) Used to refer to this URL in templates.\n",
        "\n"
      ],
      "metadata": {
        "id": "Hxf7DYIGOTLb"
      }
    },
    {
      "cell_type": "markdown",
      "source": [
        "### **Step 3: Include App URLs in the Main Project**\n",
        "To make sure the URLs from your app are available, include the app’s urls.py file in the project’s **main urls.py.**\n",
        "\n",
        "**myproject/urls.py:**\n",
        "\n",
        "\n",
        "\n",
        "```\n",
        "# myproject/urls.py\n",
        "from django.contrib import admin\n",
        "from django.urls import path, include\n",
        "\n",
        "urlpatterns = [\n",
        "    path('admin/', admin.site.urls),  # Admin panel\n",
        "    path('', include('myapp.urls')),  # Include app's URLs\n",
        "]\n",
        "```\n",
        "The **include()** function allows Django to use the routes defined in myapp/urls.py.\n",
        "\n"
      ],
      "metadata": {
        "id": "a_NKisBVO2C1"
      }
    },
    {
      "cell_type": "markdown",
      "source": [
        "### **Step 4: Run the Server and Test**\n",
        "Make sure your Django server is running. Start the development server\n",
        "\n",
        "\n",
        "```\n",
        "$ python manage.py runserver\n",
        "```\n",
        "\n"
      ],
      "metadata": {
        "id": "axcy4LfWPOBS"
      }
    },
    {
      "cell_type": "markdown",
      "source": [
        "# **Building a simple homepage with dynamic URL routing.**\n",
        "Welcome! Today, we’re exploring an exciting feature of Django web development—dynamic URL routing. Imagine building a homepage for a lively community center that hosts a variety of events. You’d want visitors to easily access different event pages without dealing with complicated URLs. This is exactly where dynamic URL routing shines!\n",
        "\n",
        "Dynamic URL routing lets you create flexible URLs that adjust based on user input or data. Think of it like a smart map—rather than having fixed routes, the paths change depending on the destination. This flexibility is essential in web applications, where the content must adapt to user requests.\n",
        "\n",
        "In this tutorial, we’ll walk through how to build a simple Django homepage using dynamic URL routing. Don’t worry if you’re new to Django—we’ll guide you through each step in a clear and beginner-friendly way!\n",
        "\n"
      ],
      "metadata": {
        "id": "sU1I2luKQJDn"
      }
    },
    {
      "cell_type": "markdown",
      "source": [
        "### **Step 1: Setting Up Your Django Project**\n",
        "**Install Django:** If you haven’t installed Django yet, you can do it using pip. Open your command line and run:\n",
        "\n",
        "\n",
        "```\n",
        "$ pip install django\n",
        "```\n",
        "**Create a New Project:** Start a new Django project by running:\n",
        "\n",
        "\n",
        "```\n",
        "$ django-admin startproject community_center\n",
        "```\n",
        "Navigate to Your Project Directory:\n",
        "\n",
        "\n",
        "```\n",
        "$ cd community_center\n",
        "```\n",
        "**Create a New App:** Let’s create an app where we’ll build our homepage. Run:\n",
        "\n",
        "\n",
        "```\n",
        "$ python manage.py startapp events\n",
        "```\n",
        "**Register the App:** Open settings.py in the community_center directory and add 'events' to the INSTALLED_APPS list.\n",
        "\n",
        "\n",
        "\n",
        "\n",
        "\n",
        "\n",
        "\n"
      ],
      "metadata": {
        "id": "L_DO85-SUvC2"
      }
    },
    {
      "cell_type": "markdown",
      "source": [
        "### **Step 2: Define the URL Patterns**\n",
        "Now, let’s set up the URL routing for our homepage and dynamic event pages.\n",
        "\n",
        "**Create a urls.py File:** Inside the events directory, create a file named urls.py. Here’s what it should look like:\n",
        "\n",
        "\n",
        "\n",
        "```\n",
        "from django.urls import path\n",
        "from . import views\n",
        "\n",
        "urlpatterns = [\n",
        "    path('', views.homepage, name='homepage'),  # Homepage URL\n",
        "    path('event//', views.event_detail, name='event_detail'),  # Dynamic event URL\n",
        "   ]\n",
        "     \n",
        "```\n",
        "**Include the App URLs in the Project:** Open urls.py in the community_center directory and include the events URLs:\n",
        "\n",
        "\n",
        "```\n",
        "from django.contrib import admin\n",
        "from django.urls import path, include\n",
        "\n",
        "urlpatterns = [\n",
        "   path('admin/', admin.site.urls),\n",
        "   path('', include('events.urls')),  # Include app URLs\n",
        "]\n",
        "```\n",
        "\n",
        "\n"
      ],
      "metadata": {
        "id": "ipPmnQ74Vhly"
      }
    },
    {
      "cell_type": "markdown",
      "source": [
        "### **Step 3: Create Views**\n",
        "Next, let’s create the views that will render our pages.\n",
        "\n",
        "**Open views.py in the events Directory:** Here’s how you can define the homepage and event detail views:\n",
        "\n",
        "\n",
        "```\n",
        "from django.shortcuts import render\n",
        "\n",
        "def homepage(request):\n",
        "   return render(request, 'events/homepage.html')\n",
        "\n",
        "def event_detail(request, event_id):\n",
        "   # For simplicity, let's just return the event_id in the template\n",
        "   return render(request, 'events/event_detail.html', {'event_id': event_id})\n",
        "```\n",
        "\n",
        "\n"
      ],
      "metadata": {
        "id": "T5-q3XurXpyV"
      }
    },
    {
      "cell_type": "markdown",
      "source": [
        "### **Step 4: Create Templates**\n",
        "Now, we need to create the HTML templates for our homepage and event detail pages.\n",
        "\n",
        "**Create a templates Directory:** Inside the events directory, create a folder named templates\n",
        "\n",
        "\n",
        "```\n",
        "Create homepage.html:\n",
        "\n",
        "<!DOCTYPE html>\n",
        "<html lang=\"en\">\n",
        "<head>\n",
        "    <meta charset=\"UTF-8\">\n",
        "    <meta name=\"viewport\" content=\"width=device-width, initial-scale=1.0\">\n",
        "    <title>Community Center</title>\n",
        "</head>\n",
        "<body>\n",
        "    <h1>Welcome to the Community Center!</h1>\n",
        "    <p>Check out our upcoming events:</p>\n",
        "    <ul>\n",
        "        <li><a href=\"{% url 'event_detail' event_id=1 %}\">Event 1</a></li>\n",
        "        <li><a href=\"{% url 'event_detail' event_id=2 %}\">Event 2</a></li>\n",
        "        <li><a href=\"{% url 'event_detail' event_id=3 %}\">Event 3</a></li>\n",
        "    </ul>\n",
        "</body>\n",
        "</html>\n",
        "```\n",
        "\n",
        "\n"
      ],
      "metadata": {
        "id": "D7lfmhQqX-jJ"
      }
    },
    {
      "cell_type": "markdown",
      "source": [
        "### **Step 5: Run the Server**\n",
        "you’re almost there! Now it’s time to see everything in action.\n",
        "\n",
        "**Run the Development Server:** Go back to your command line and run:\n",
        "\n",
        "\n",
        "\n",
        "```\n",
        "$ python manage.py runserver\n",
        "```\n",
        "\n",
        "\n"
      ],
      "metadata": {
        "id": "PdDQxkw_Ye3P"
      }
    },
    {
      "cell_type": "markdown",
      "source": [
        "## **Conclusion**\n",
        "\n",
        "Congratulations! You’ve just built a simple homepage with dynamic URL routing in Django. By following these steps, you’ve created a flexible web application that can handle different content based on user input. This is just the beginning—imagine how you can expand this project with more features, like a database for events or user authentication! Keep experimenting, and let your creativity flow."
      ],
      "metadata": {
        "id": "jTfRjK_jYqUy"
      }
    }
  ]
}